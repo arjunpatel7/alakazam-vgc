{
 "cells": [
  {
   "cell_type": "code",
   "execution_count": 1,
   "metadata": {},
   "outputs": [
    {
     "name": "stderr",
     "output_type": "stream",
     "text": [
      "/Users/ArjunPatel/opt/anaconda3/envs/pkmn-moves/lib/python3.10/site-packages/tqdm/auto.py:22: TqdmWarning: IProgress not found. Please update jupyter and ipywidgets. See https://ipywidgets.readthedocs.io/en/stable/user_install.html\n",
      "  from .autonotebook import tqdm as notebook_tqdm\n",
      "2023-06-07 19:45:13.822800: I tensorflow/core/platform/cpu_feature_guard.cc:193] This TensorFlow binary is optimized with oneAPI Deep Neural Network Library (oneDNN) to use the following CPU instructions in performance-critical operations:  AVX2 FMA\n",
      "To enable them in other operations, rebuild TensorFlow with the appropriate compiler flags.\n"
     ]
    }
   ],
   "source": [
    "import modal\n",
    "import pandas as pd\n",
    "import evaluate\n",
    "\n",
    "\n",
    "# load my modal function from deployment to do inference\n",
    "\n",
    "def run_inference(d):\n",
    "    # From Modal, get inference of datapoint d and return\n",
    "\n",
    "    # grabs function from Modal to run my large language model\n",
    "    extract = modal.Function.lookup(\"pkmn-py\", \"run_inference\")\n",
    "    # call run_inference remotely on modal\n",
    "    result = extract.call(d)\n",
    "    return result\n"
   ]
  },
  {
   "cell_type": "code",
   "execution_count": 4,
   "metadata": {},
   "outputs": [],
   "source": [
    "rouge = evaluate.load(\"rouge\")"
   ]
  },
  {
   "cell_type": "code",
   "execution_count": 5,
   "metadata": {},
   "outputs": [],
   "source": [
    "# import my evaluation jsonl file so we can run inference on it \n",
    "\n",
    "\n",
    "# import evaluation jsonl speed_training_data_eval.jsonl\n",
    "\n",
    "import jsonlines\n",
    "\n",
    "\n",
    "eval_set = []\n",
    "f = \"speed_training_data_eval.jsonl\"\n",
    "with jsonlines.open(f) as reader:\n",
    "        for entry in reader:\n",
    "            eval_set.append(entry)\n",
    "            "
   ]
  },
  {
   "cell_type": "code",
   "execution_count": 11,
   "metadata": {},
   "outputs": [],
   "source": [
    "eval_set = pd.DataFrame(eval_set)"
   ]
  },
  {
   "cell_type": "code",
   "execution_count": 12,
   "metadata": {},
   "outputs": [
    {
     "data": {
      "text/html": [
       "<div>\n",
       "<style scoped>\n",
       "    .dataframe tbody tr th:only-of-type {\n",
       "        vertical-align: middle;\n",
       "    }\n",
       "\n",
       "    .dataframe tbody tr th {\n",
       "        vertical-align: top;\n",
       "    }\n",
       "\n",
       "    .dataframe thead th {\n",
       "        text-align: right;\n",
       "    }\n",
       "</style>\n",
       "<table border=\"1\" class=\"dataframe\">\n",
       "  <thead>\n",
       "    <tr style=\"text-align: right;\">\n",
       "      <th></th>\n",
       "      <th>prompt</th>\n",
       "      <th>output</th>\n",
       "    </tr>\n",
       "  </thead>\n",
       "  <tbody>\n",
       "    <tr>\n",
       "      <th>0</th>\n",
       "      <td>Is -5 35 Noibat slower than -5 19 Blissey?</td>\n",
       "      <td>\\n{\\n    \"p1\": \"Noibat\",\\n    \"p2\": \"Blissey\",...</td>\n",
       "    </tr>\n",
       "    <tr>\n",
       "      <th>1</th>\n",
       "      <td>Does -6 32 Larvesta outspeed -5 105 Arrokuda?</td>\n",
       "      <td>\\n{\\n    \"p1\": \"Larvesta\",\\n    \"p2\": \"Arrokud...</td>\n",
       "    </tr>\n",
       "    <tr>\n",
       "      <th>2</th>\n",
       "      <td>Check if +2 235 Great Tusk outspeeds -3 133 Al...</td>\n",
       "      <td>\\n{\\n    \"p1\": \"Great Tusk\",\\n    \"p2\": \"Altar...</td>\n",
       "    </tr>\n",
       "    <tr>\n",
       "      <th>3</th>\n",
       "      <td>Will +3 with 2 speed Pawmot         underspeed...</td>\n",
       "      <td>\\n{\\n    \"p1\": \"Pawmot\",\\n    \"p2\": \"Ursaring\"...</td>\n",
       "    </tr>\n",
       "    <tr>\n",
       "      <th>4</th>\n",
       "      <td>Will Psyduck at 0 with 110 outspeed Pawmot at ...</td>\n",
       "      <td>\\n{\\n    \"p1\": \"Psyduck\",\\n    \"p2\": \"Pawmot\",...</td>\n",
       "    </tr>\n",
       "    <tr>\n",
       "      <th>...</th>\n",
       "      <td>...</td>\n",
       "      <td>...</td>\n",
       "    </tr>\n",
       "    <tr>\n",
       "      <th>195</th>\n",
       "      <td>Check if Greedent with 161 speed evs outspeeds...</td>\n",
       "      <td>\\n{\\n    \"p1\": \"Greedent\",\\n    \"p2\": \"Pelippe...</td>\n",
       "    </tr>\n",
       "    <tr>\n",
       "      <th>196</th>\n",
       "      <td>Calculate if Marill with 149 speed evs outspee...</td>\n",
       "      <td>\\n{\\n    \"p1\": \"Marill\",\\n    \"p2\": \"Mismagius...</td>\n",
       "    </tr>\n",
       "    <tr>\n",
       "      <th>197</th>\n",
       "      <td>Check if Gholdengo with 86 speed evs outspeeds...</td>\n",
       "      <td>\\n{\\n    \"p1\": \"Gholdengo\",\\n    \"p2\": \"Glimmo...</td>\n",
       "    </tr>\n",
       "    <tr>\n",
       "      <th>198</th>\n",
       "      <td>Calculate if Hatterene with 221 speed evs outs...</td>\n",
       "      <td>\\n{\\n    \"p1\": \"Hatterene\",\\n    \"p2\": \"Great ...</td>\n",
       "    </tr>\n",
       "    <tr>\n",
       "      <th>199</th>\n",
       "      <td>Does Snorunt with 240 speed evs outspeed Eelek...</td>\n",
       "      <td>\\n{\\n    \"p1\": \"Snorunt\",\\n    \"p2\": \"Eelektri...</td>\n",
       "    </tr>\n",
       "  </tbody>\n",
       "</table>\n",
       "<p>200 rows × 2 columns</p>\n",
       "</div>"
      ],
      "text/plain": [
       "                                                prompt  \\\n",
       "0           Is -5 35 Noibat slower than -5 19 Blissey?   \n",
       "1        Does -6 32 Larvesta outspeed -5 105 Arrokuda?   \n",
       "2    Check if +2 235 Great Tusk outspeeds -3 133 Al...   \n",
       "3    Will +3 with 2 speed Pawmot         underspeed...   \n",
       "4    Will Psyduck at 0 with 110 outspeed Pawmot at ...   \n",
       "..                                                 ...   \n",
       "195  Check if Greedent with 161 speed evs outspeeds...   \n",
       "196  Calculate if Marill with 149 speed evs outspee...   \n",
       "197  Check if Gholdengo with 86 speed evs outspeeds...   \n",
       "198  Calculate if Hatterene with 221 speed evs outs...   \n",
       "199  Does Snorunt with 240 speed evs outspeed Eelek...   \n",
       "\n",
       "                                                output  \n",
       "0    \\n{\\n    \"p1\": \"Noibat\",\\n    \"p2\": \"Blissey\",...  \n",
       "1    \\n{\\n    \"p1\": \"Larvesta\",\\n    \"p2\": \"Arrokud...  \n",
       "2    \\n{\\n    \"p1\": \"Great Tusk\",\\n    \"p2\": \"Altar...  \n",
       "3    \\n{\\n    \"p1\": \"Pawmot\",\\n    \"p2\": \"Ursaring\"...  \n",
       "4    \\n{\\n    \"p1\": \"Psyduck\",\\n    \"p2\": \"Pawmot\",...  \n",
       "..                                                 ...  \n",
       "195  \\n{\\n    \"p1\": \"Greedent\",\\n    \"p2\": \"Pelippe...  \n",
       "196  \\n{\\n    \"p1\": \"Marill\",\\n    \"p2\": \"Mismagius...  \n",
       "197  \\n{\\n    \"p1\": \"Gholdengo\",\\n    \"p2\": \"Glimmo...  \n",
       "198  \\n{\\n    \"p1\": \"Hatterene\",\\n    \"p2\": \"Great ...  \n",
       "199  \\n{\\n    \"p1\": \"Snorunt\",\\n    \"p2\": \"Eelektri...  \n",
       "\n",
       "[200 rows x 2 columns]"
      ]
     },
     "execution_count": 12,
     "metadata": {},
     "output_type": "execute_result"
    }
   ],
   "source": [
    "eval_set"
   ]
  },
  {
   "cell_type": "code",
   "execution_count": 13,
   "metadata": {},
   "outputs": [],
   "source": [
    "# now run inference on dataframe eval set, and store result in new column\n",
    "\n",
    "\n",
    "eval_set[\"inference\"] = eval_set[\"prompt\"].apply(run_inference)"
   ]
  },
  {
   "cell_type": "code",
   "execution_count": 16,
   "metadata": {},
   "outputs": [
    {
     "data": {
      "text/html": [
       "<div>\n",
       "<style scoped>\n",
       "    .dataframe tbody tr th:only-of-type {\n",
       "        vertical-align: middle;\n",
       "    }\n",
       "\n",
       "    .dataframe tbody tr th {\n",
       "        vertical-align: top;\n",
       "    }\n",
       "\n",
       "    .dataframe thead th {\n",
       "        text-align: right;\n",
       "    }\n",
       "</style>\n",
       "<table border=\"1\" class=\"dataframe\">\n",
       "  <thead>\n",
       "    <tr style=\"text-align: right;\">\n",
       "      <th></th>\n",
       "      <th>prompt</th>\n",
       "      <th>output</th>\n",
       "      <th>inference</th>\n",
       "    </tr>\n",
       "  </thead>\n",
       "  <tbody>\n",
       "    <tr>\n",
       "      <th>0</th>\n",
       "      <td>Is -5 35 Noibat slower than -5 19 Blissey?</td>\n",
       "      <td>\\n{\\n    \"p1\": \"Noibat\",\\n    \"p2\": \"Blissey\",...</td>\n",
       "      <td>{\\n    \"p1\": \"Noibat\",\\n    \"p2\": \"Blissey\",\\n...</td>\n",
       "    </tr>\n",
       "    <tr>\n",
       "      <th>1</th>\n",
       "      <td>Does -6 32 Larvesta outspeed -5 105 Arrokuda?</td>\n",
       "      <td>\\n{\\n    \"p1\": \"Larvesta\",\\n    \"p2\": \"Arrokud...</td>\n",
       "      <td>{\\n    \"p1\": \"Larvesta\",\\n    \"p2\": \"Arrokuda\"...</td>\n",
       "    </tr>\n",
       "    <tr>\n",
       "      <th>2</th>\n",
       "      <td>Check if +2 235 Great Tusk outspeeds -3 133 Al...</td>\n",
       "      <td>\\n{\\n    \"p1\": \"Great Tusk\",\\n    \"p2\": \"Altar...</td>\n",
       "      <td>{\\n    \"p1\": \"Great Tusk\",\\n    \"p2\": \"Altaria...</td>\n",
       "    </tr>\n",
       "    <tr>\n",
       "      <th>3</th>\n",
       "      <td>Will +3 with 2 speed Pawmot         underspeed...</td>\n",
       "      <td>\\n{\\n    \"p1\": \"Pawmot\",\\n    \"p2\": \"Ursaring\"...</td>\n",
       "      <td>{\\n    \"p1\": \"Pawmot\",\\n    \"p2\": \"Ursaring\",\\...</td>\n",
       "    </tr>\n",
       "    <tr>\n",
       "      <th>4</th>\n",
       "      <td>Will Psyduck at 0 with 110 outspeed Pawmot at ...</td>\n",
       "      <td>\\n{\\n    \"p1\": \"Psyduck\",\\n    \"p2\": \"Pawmot\",...</td>\n",
       "      <td>{\\n    \"p1\": \"Psyduck\",\\n    \"p2\": \"Pawmot\",\\n...</td>\n",
       "    </tr>\n",
       "    <tr>\n",
       "      <th>...</th>\n",
       "      <td>...</td>\n",
       "      <td>...</td>\n",
       "      <td>...</td>\n",
       "    </tr>\n",
       "    <tr>\n",
       "      <th>195</th>\n",
       "      <td>Check if Greedent with 161 speed evs outspeeds...</td>\n",
       "      <td>\\n{\\n    \"p1\": \"Greedent\",\\n    \"p2\": \"Pelippe...</td>\n",
       "      <td>{\\n    \"p1\": \"Greedent\",\\n    \"p2\": \"Pelipper\"...</td>\n",
       "    </tr>\n",
       "    <tr>\n",
       "      <th>196</th>\n",
       "      <td>Calculate if Marill with 149 speed evs outspee...</td>\n",
       "      <td>\\n{\\n    \"p1\": \"Marill\",\\n    \"p2\": \"Mismagius...</td>\n",
       "      <td>{\\n    \"p1\": \"marill\",\\n    \"p2\": \"mismagius\",...</td>\n",
       "    </tr>\n",
       "    <tr>\n",
       "      <th>197</th>\n",
       "      <td>Check if Gholdengo with 86 speed evs outspeeds...</td>\n",
       "      <td>\\n{\\n    \"p1\": \"Gholdengo\",\\n    \"p2\": \"Glimmo...</td>\n",
       "      <td>{\\n    \"p1\": \"Gholdengo\",\\n    \"p2\": \"Glimmora...</td>\n",
       "    </tr>\n",
       "    <tr>\n",
       "      <th>198</th>\n",
       "      <td>Calculate if Hatterene with 221 speed evs outs...</td>\n",
       "      <td>\\n{\\n    \"p1\": \"Hatterene\",\\n    \"p2\": \"Great ...</td>\n",
       "      <td>{\\n    \"p1\": \"Hatterene\",\\n    \"p2\": \"Great Tu...</td>\n",
       "    </tr>\n",
       "    <tr>\n",
       "      <th>199</th>\n",
       "      <td>Does Snorunt with 240 speed evs outspeed Eelek...</td>\n",
       "      <td>\\n{\\n    \"p1\": \"Snorunt\",\\n    \"p2\": \"Eelektri...</td>\n",
       "      <td>{\\n    \"p1\": \"Snorunt\",\\n    \"p2\": \"Eelektrik\"...</td>\n",
       "    </tr>\n",
       "  </tbody>\n",
       "</table>\n",
       "<p>200 rows × 3 columns</p>\n",
       "</div>"
      ],
      "text/plain": [
       "                                                prompt  \\\n",
       "0           Is -5 35 Noibat slower than -5 19 Blissey?   \n",
       "1        Does -6 32 Larvesta outspeed -5 105 Arrokuda?   \n",
       "2    Check if +2 235 Great Tusk outspeeds -3 133 Al...   \n",
       "3    Will +3 with 2 speed Pawmot         underspeed...   \n",
       "4    Will Psyduck at 0 with 110 outspeed Pawmot at ...   \n",
       "..                                                 ...   \n",
       "195  Check if Greedent with 161 speed evs outspeeds...   \n",
       "196  Calculate if Marill with 149 speed evs outspee...   \n",
       "197  Check if Gholdengo with 86 speed evs outspeeds...   \n",
       "198  Calculate if Hatterene with 221 speed evs outs...   \n",
       "199  Does Snorunt with 240 speed evs outspeed Eelek...   \n",
       "\n",
       "                                                output  \\\n",
       "0    \\n{\\n    \"p1\": \"Noibat\",\\n    \"p2\": \"Blissey\",...   \n",
       "1    \\n{\\n    \"p1\": \"Larvesta\",\\n    \"p2\": \"Arrokud...   \n",
       "2    \\n{\\n    \"p1\": \"Great Tusk\",\\n    \"p2\": \"Altar...   \n",
       "3    \\n{\\n    \"p1\": \"Pawmot\",\\n    \"p2\": \"Ursaring\"...   \n",
       "4    \\n{\\n    \"p1\": \"Psyduck\",\\n    \"p2\": \"Pawmot\",...   \n",
       "..                                                 ...   \n",
       "195  \\n{\\n    \"p1\": \"Greedent\",\\n    \"p2\": \"Pelippe...   \n",
       "196  \\n{\\n    \"p1\": \"Marill\",\\n    \"p2\": \"Mismagius...   \n",
       "197  \\n{\\n    \"p1\": \"Gholdengo\",\\n    \"p2\": \"Glimmo...   \n",
       "198  \\n{\\n    \"p1\": \"Hatterene\",\\n    \"p2\": \"Great ...   \n",
       "199  \\n{\\n    \"p1\": \"Snorunt\",\\n    \"p2\": \"Eelektri...   \n",
       "\n",
       "                                             inference  \n",
       "0    {\\n    \"p1\": \"Noibat\",\\n    \"p2\": \"Blissey\",\\n...  \n",
       "1    {\\n    \"p1\": \"Larvesta\",\\n    \"p2\": \"Arrokuda\"...  \n",
       "2    {\\n    \"p1\": \"Great Tusk\",\\n    \"p2\": \"Altaria...  \n",
       "3    {\\n    \"p1\": \"Pawmot\",\\n    \"p2\": \"Ursaring\",\\...  \n",
       "4    {\\n    \"p1\": \"Psyduck\",\\n    \"p2\": \"Pawmot\",\\n...  \n",
       "..                                                 ...  \n",
       "195  {\\n    \"p1\": \"Greedent\",\\n    \"p2\": \"Pelipper\"...  \n",
       "196  {\\n    \"p1\": \"marill\",\\n    \"p2\": \"mismagius\",...  \n",
       "197  {\\n    \"p1\": \"Gholdengo\",\\n    \"p2\": \"Glimmora...  \n",
       "198  {\\n    \"p1\": \"Hatterene\",\\n    \"p2\": \"Great Tu...  \n",
       "199  {\\n    \"p1\": \"Snorunt\",\\n    \"p2\": \"Eelektrik\"...  \n",
       "\n",
       "[200 rows x 3 columns]"
      ]
     },
     "execution_count": 16,
     "metadata": {},
     "output_type": "execute_result"
    }
   ],
   "source": [
    "eval_set"
   ]
  },
  {
   "cell_type": "code",
   "execution_count": 22,
   "metadata": {},
   "outputs": [
    {
     "data": {
      "text/plain": [
       "{'rouge1': 0.9991666666666669,\n",
       " 'rouge2': 0.998235294117647,\n",
       " 'rougeL': 0.9991666666666668,\n",
       " 'rougeLsum': 0.9991666666666668}"
      ]
     },
     "execution_count": 22,
     "metadata": {},
     "output_type": "execute_result"
    }
   ],
   "source": [
    "# compute rouge score row by row using inference columna and output column\n",
    "\n",
    "score_result = rouge.compute(predictions = eval_set[\"inference\"], references = eval_set[\"output\"])\n",
    "\n",
    "\n",
    "# compute the mean, median, rouge score for the eval set\n",
    "\n",
    "# pretty print both scores\n",
    "score_result\n"
   ]
  },
  {
   "cell_type": "code",
   "execution_count": 23,
   "metadata": {},
   "outputs": [],
   "source": [
    "score_result = rouge.compute(predictions = eval_set[\"prompt\"], references = eval_set[\"output\"])\n"
   ]
  },
  {
   "cell_type": "code",
   "execution_count": 24,
   "metadata": {},
   "outputs": [
    {
     "data": {
      "text/plain": [
       "{'rouge1': 0.3090064765206687,\n",
       " 'rouge2': 0.008736770413721517,\n",
       " 'rougeL': 0.19973229832874284,\n",
       " 'rougeLsum': 0.3070525841896002}"
      ]
     },
     "execution_count": 24,
     "metadata": {},
     "output_type": "execute_result"
    }
   ],
   "source": [
    "score_result"
   ]
  },
  {
   "cell_type": "code",
   "execution_count": null,
   "metadata": {},
   "outputs": [],
   "source": []
  }
 ],
 "metadata": {
  "kernelspec": {
   "display_name": "Python 3.10.11 ('pkmn-moves')",
   "language": "python",
   "name": "python3"
  },
  "language_info": {
   "codemirror_mode": {
    "name": "ipython",
    "version": 3
   },
   "file_extension": ".py",
   "mimetype": "text/x-python",
   "name": "python",
   "nbconvert_exporter": "python",
   "pygments_lexer": "ipython3",
   "version": "3.10.11"
  },
  "orig_nbformat": 4,
  "vscode": {
   "interpreter": {
    "hash": "7841934bd0fc183d053f3fe9be9051a16f5790dbb3f30361ab09af68e292c0ab"
   }
  }
 },
 "nbformat": 4,
 "nbformat_minor": 2
}
